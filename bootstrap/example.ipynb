{
 "cells": [
  {
   "cell_type": "markdown",
   "metadata": {},
   "source": [
    "## Bootstrap\n",
    "\n",
    "**In a nutshell**:\n",
    "Let's say you have cool medical device that treats chronic pain. You ran a study with 30 participants. You wanted to do more, but you're a bit broke. When the study is over Bootstrapping helps estimation of statisc values (e.g. mean, median) of a large population by repeatedly drawing random samples from sample pupolation and calculate the desired statisc value. When a sample is drawn from the sample population, it must be replaced (Sample with Replacement). For example, a set of sample data contains `[2, 5, 7, 8, 9]`, after we draw 8 from the data, sample data must maintain the original shape `[2, 5, 7, 8, 9]`."
   ]
  },
  {
   "cell_type": "code",
   "execution_count": null,
   "metadata": {},
   "outputs": [],
   "source": [
    "# Libraries for processing arrays faster\n",
    "import numpy as np\n",
    "import pandas as pd\n",
    "# Libraries for drawing graph\n",
    "import seaborn as sns\n",
    "import matplotlib.pyplot as plt"
   ]
  },
  {
   "cell_type": "code",
   "execution_count": null,
   "metadata": {},
   "outputs": [],
   "source": [
    "climb_df = pd.read_csv('./climber_df.csv')"
   ]
  },
  {
   "cell_type": "code",
   "execution_count": null,
   "metadata": {},
   "outputs": [],
   "source": [
    "climb_df.shape"
   ]
  },
  {
   "cell_type": "code",
   "execution_count": null,
   "metadata": {},
   "outputs": [],
   "source": [
    "pd.options.display.max_columns = None"
   ]
  },
  {
   "cell_type": "code",
   "execution_count": null,
   "metadata": {
    "scrolled": false
   },
   "outputs": [],
   "source": [
    "climb_df.head()"
   ]
  },
  {
   "cell_type": "markdown",
   "metadata": {},
   "source": [
    "Gender: 1 represents male, 2 represents female  \n",
    "Age Range: 1 represents > 18 years of age, 2 represents < 18 years of age  \n",
    "Head Size(cm^3): Volume in cubic centimeters  \n",
    "Brain Weight(grams): Mass of brains in grams  "
   ]
  },
  {
   "cell_type": "code",
   "execution_count": null,
   "metadata": {
    "scrolled": true
   },
   "outputs": [],
   "source": [
    "climb_df.info(verbose=True)"
   ]
  },
  {
   "cell_type": "code",
   "execution_count": null,
   "metadata": {
    "scrolled": false
   },
   "outputs": [],
   "source": [
    "sns.set(font_scale=1.5)\n",
    "sns.displot(data=climb_df, x='age', height=8, hue='sex', multiple='stack')"
   ]
  },
  {
   "cell_type": "code",
   "execution_count": null,
   "metadata": {},
   "outputs": [],
   "source": [
    "sns.scatterplot(data=climb_df, x='age', y='grades_last', hue='sex')"
   ]
  },
  {
   "cell_type": "code",
   "execution_count": null,
   "metadata": {},
   "outputs": [],
   "source": [
    "climb_df.describe().T"
   ]
  },
  {
   "cell_type": "markdown",
   "metadata": {},
   "source": [
    "## Beginning of Bootstrap"
   ]
  },
  {
   "cell_type": "code",
   "execution_count": null,
   "metadata": {},
   "outputs": [],
   "source": [
    "bootstrap_sample = df.sample(38, replace=True)"
   ]
  },
  {
   "cell_type": "code",
   "execution_count": null,
   "metadata": {},
   "outputs": [],
   "source": [
    "n_iterations = 5000\n",
    "n_size = len(bootstrap_sample)\n",
    "sampling_means_distribution = []\n",
    "# Run the loop 5000 times, draw random samples in each loop and get there mean\n",
    "for i in range(n_iterations):\n",
    "    iteration_sample = bootstrap_sample.sample(n_size, replace=True)\n",
    "    iteration_mean = iteration_sample['Brain Weight(grams)'].mean()\n",
    "    sampling_means_distribution.append(iteration_mean)"
   ]
  },
  {
   "cell_type": "markdown",
   "metadata": {},
   "source": [
    "Confidence Interval  \n",
    "lower_percentile = mean - z score x (standard deviation / √sample size)  \n",
    "upper_percentile = mean + z score x (standard deviation / √sample size)  "
   ]
  },
  {
   "cell_type": "code",
   "execution_count": null,
   "metadata": {},
   "outputs": [],
   "source": [
    "len(sampling_means_distribution)"
   ]
  },
  {
   "cell_type": "markdown",
   "metadata": {},
   "source": [
    "Empirical Cumulative Distribution  \n",
    "It shows the the overall probability of something fall under a observation"
   ]
  },
  {
   "cell_type": "code",
   "execution_count": null,
   "metadata": {},
   "outputs": [],
   "source": [
    "sorted_sampling_means_distribution = np.sort(sampling_means_distribution)\n",
    "sns.scatterplot(\n",
    "    x=sorted_sampling_means_distribution,\n",
    "    y=np.arange(1, sorted_sampling_means_distribution.shape[0] + 1) / sorted_sampling_means_distribution.shape[0]\n",
    ")"
   ]
  },
  {
   "cell_type": "markdown",
   "metadata": {},
   "source": [
    "Percentile\n",
    "The value below which a percentage of data falls"
   ]
  },
  {
   "cell_type": "code",
   "execution_count": null,
   "metadata": {},
   "outputs": [],
   "source": [
    "sample_lower, sample_upper = np.percentile(sampling_means_distribution, [2.5, 97.5])"
   ]
  },
  {
   "cell_type": "code",
   "execution_count": null,
   "metadata": {},
   "outputs": [],
   "source": [
    "def get_confidence_interval(sample):\n",
    "    sample_mean = np.mean(sample)\n",
    "    sd_unit = 1.960 * (np.std(sample) / np.sqrt(len(sample)))\n",
    "    return sample_mean - sd_unit, sample_mean + sd_unit\n",
    "\n",
    "true_lower, true_upper = get_confidence_interval(df['Brain Weight(grams)'])"
   ]
  },
  {
   "cell_type": "code",
   "execution_count": null,
   "metadata": {},
   "outputs": [],
   "source": [
    "print('95%% confidence interval for bootstrap: [%.2f, %.2f]' % (sample_lower, sample_upper))\n",
    "print('95%% confidence interval for entire population: [%.2f, %.2f]' % (true_lower, true_upper))"
   ]
  },
  {
   "cell_type": "code",
   "execution_count": null,
   "metadata": {},
   "outputs": [],
   "source": []
  }
 ],
 "metadata": {
  "kernelspec": {
   "display_name": "Python 3 (ipykernel)",
   "language": "python",
   "name": "python3"
  },
  "language_info": {
   "codemirror_mode": {
    "name": "ipython",
    "version": 3
   },
   "file_extension": ".py",
   "mimetype": "text/x-python",
   "name": "python",
   "nbconvert_exporter": "python",
   "pygments_lexer": "ipython3",
   "version": "3.9.7"
  }
 },
 "nbformat": 4,
 "nbformat_minor": 4
}
