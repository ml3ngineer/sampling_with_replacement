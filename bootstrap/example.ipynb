{
 "cells": [
  {
   "cell_type": "markdown",
   "metadata": {},
   "source": [
    "## Bootstrap\n",
    "\n",
    "**In a nutshell**: Bootstrapping helps estimation of statisc values (e.g. mean, median) of a large population by repeatedly drawing random samples from sample pupolation and calculate the desired statisc value. When a sample is drawn from the sample population, it must be replaced (Sample with Replacement). For example, a set of sample data contains `[2, 5, 7, 8, 9]`, after we draw 8 from the data, sample data must maintain the original shape `[2, 5, 7, 8, 9]`."
   ]
  },
  {
   "cell_type": "code",
   "execution_count": 1,
   "metadata": {},
   "outputs": [],
   "source": [
    "# Libraries for processing arrays faster\n",
    "import numpy as np\n",
    "import pandas as pd\n",
    "# Libraries for drawing graph\n",
    "import seaborn as sns\n",
    "import matplotlib.pyplot as plt"
   ]
  },
  {
   "cell_type": "code",
   "execution_count": 2,
   "metadata": {},
   "outputs": [],
   "source": [
    "df = pd.read_csv('./brain_weight.csv')"
   ]
  },
  {
   "cell_type": "code",
   "execution_count": 3,
   "metadata": {},
   "outputs": [
    {
     "data": {
      "text/plain": [
       "(237, 4)"
      ]
     },
     "execution_count": 3,
     "metadata": {},
     "output_type": "execute_result"
    }
   ],
   "source": [
    "df.shape"
   ]
  },
  {
   "cell_type": "code",
   "execution_count": 4,
   "metadata": {},
   "outputs": [],
   "source": [
    "pd.options.display.max_columns = None"
   ]
  },
  {
   "cell_type": "code",
   "execution_count": 5,
   "metadata": {
    "scrolled": false
   },
   "outputs": [
    {
     "data": {
      "text/html": [
       "<div>\n",
       "<style scoped>\n",
       "    .dataframe tbody tr th:only-of-type {\n",
       "        vertical-align: middle;\n",
       "    }\n",
       "\n",
       "    .dataframe tbody tr th {\n",
       "        vertical-align: top;\n",
       "    }\n",
       "\n",
       "    .dataframe thead th {\n",
       "        text-align: right;\n",
       "    }\n",
       "</style>\n",
       "<table border=\"1\" class=\"dataframe\">\n",
       "  <thead>\n",
       "    <tr style=\"text-align: right;\">\n",
       "      <th></th>\n",
       "      <th>Gender</th>\n",
       "      <th>Age Range</th>\n",
       "      <th>Head Size(cm^3)</th>\n",
       "      <th>Brain Weight(grams)</th>\n",
       "    </tr>\n",
       "  </thead>\n",
       "  <tbody>\n",
       "    <tr>\n",
       "      <th>0</th>\n",
       "      <td>1</td>\n",
       "      <td>1</td>\n",
       "      <td>4512</td>\n",
       "      <td>1530</td>\n",
       "    </tr>\n",
       "    <tr>\n",
       "      <th>1</th>\n",
       "      <td>1</td>\n",
       "      <td>1</td>\n",
       "      <td>3738</td>\n",
       "      <td>1297</td>\n",
       "    </tr>\n",
       "    <tr>\n",
       "      <th>2</th>\n",
       "      <td>1</td>\n",
       "      <td>1</td>\n",
       "      <td>4261</td>\n",
       "      <td>1335</td>\n",
       "    </tr>\n",
       "    <tr>\n",
       "      <th>3</th>\n",
       "      <td>1</td>\n",
       "      <td>1</td>\n",
       "      <td>3777</td>\n",
       "      <td>1282</td>\n",
       "    </tr>\n",
       "    <tr>\n",
       "      <th>4</th>\n",
       "      <td>1</td>\n",
       "      <td>1</td>\n",
       "      <td>4177</td>\n",
       "      <td>1590</td>\n",
       "    </tr>\n",
       "  </tbody>\n",
       "</table>\n",
       "</div>"
      ],
      "text/plain": [
       "   Gender  Age Range  Head Size(cm^3)  Brain Weight(grams)\n",
       "0       1          1             4512                 1530\n",
       "1       1          1             3738                 1297\n",
       "2       1          1             4261                 1335\n",
       "3       1          1             3777                 1282\n",
       "4       1          1             4177                 1590"
      ]
     },
     "execution_count": 5,
     "metadata": {},
     "output_type": "execute_result"
    }
   ],
   "source": [
    "df.head()"
   ]
  },
  {
   "cell_type": "markdown",
   "metadata": {},
   "source": [
    "Gender: 1 represents male, 2 represents female  \n",
    "Age Range: 1 represents > 18 years of age, 2 represents < 18 years of age  \n",
    "Head Size(cm^3): Volume in cubic centimeters  \n",
    "Brain Weight(grams): Mass of brains in grams  "
   ]
  },
  {
   "cell_type": "code",
   "execution_count": 7,
   "metadata": {
    "scrolled": true
   },
   "outputs": [
    {
     "name": "stdout",
     "output_type": "stream",
     "text": [
      "<class 'pandas.core.frame.DataFrame'>\n",
      "RangeIndex: 237 entries, 0 to 236\n",
      "Data columns (total 4 columns):\n",
      " #   Column               Non-Null Count  Dtype\n",
      "---  ------               --------------  -----\n",
      " 0   Gender               237 non-null    int64\n",
      " 1   Age Range            237 non-null    int64\n",
      " 2   Head Size(cm^3)      237 non-null    int64\n",
      " 3   Brain Weight(grams)  237 non-null    int64\n",
      "dtypes: int64(4)\n",
      "memory usage: 7.5 KB\n"
     ]
    }
   ],
   "source": [
    "df.info(verbose=True)"
   ]
  },
  {
   "cell_type": "code",
   "execution_count": 16,
   "metadata": {
    "scrolled": false
   },
   "outputs": [
    {
     "data": {
      "text/plain": [
       "<seaborn.axisgrid.FacetGrid at 0x7fd130860520>"
      ]
     },
     "execution_count": 16,
     "metadata": {},
     "output_type": "execute_result"
    },
    {
     "data": {
      "image/png": "[encoded data removed]",
      "text/plain": [
       "<Figure size 686.95x576 with 1 Axes>"
      ]
     },
     "metadata": {},
     "output_type": "display_data"
    }
   ],
   "source": [
    "sns.set(font_scale=1.5)\n",
    "sns.displot(data=df, x='Brain Weight(grams)', height=8, hue='Age Range', multiple='stack')"
   ]
  },
  {
   "cell_type": "code",
   "execution_count": 18,
   "metadata": {},
   "outputs": [
    {
     "data": {
      "text/plain": [
       "<AxesSubplot:xlabel='Brain Weight(grams)', ylabel='Head Size(cm^3)'>"
      ]
     },
     "execution_count": 18,
     "metadata": {},
     "output_type": "execute_result"
    },
    {
     "data": {
      "image/png": "[encoded data removed]",
      "text/plain": [
       "<Figure size 432x288 with 1 Axes>"
      ]
     },
     "metadata": {},
     "output_type": "display_data"
    }
   ],
   "source": [
    "sns.scatterplot(data=df, x='Brain Weight(grams)', y='Head Size(cm^3)', hue=\"Gender\")"
   ]
  },
  {
   "cell_type": "code",
   "execution_count": 19,
   "metadata": {},
   "outputs": [
    {
     "data": {
      "text/html": [
       "<div>\n",
       "<style scoped>\n",
       "    .dataframe tbody tr th:only-of-type {\n",
       "        vertical-align: middle;\n",
       "    }\n",
       "\n",
       "    .dataframe tbody tr th {\n",
       "        vertical-align: top;\n",
       "    }\n",
       "\n",
       "    .dataframe thead th {\n",
       "        text-align: right;\n",
       "    }\n",
       "</style>\n",
       "<table border=\"1\" class=\"dataframe\">\n",
       "  <thead>\n",
       "    <tr style=\"text-align: right;\">\n",
       "      <th></th>\n",
       "      <th>count</th>\n",
       "      <th>mean</th>\n",
       "      <th>std</th>\n",
       "      <th>min</th>\n",
       "      <th>25%</th>\n",
       "      <th>50%</th>\n",
       "      <th>75%</th>\n",
       "      <th>max</th>\n",
       "    </tr>\n",
       "  </thead>\n",
       "  <tbody>\n",
       "    <tr>\n",
       "      <th>Gender</th>\n",
       "      <td>237.0</td>\n",
       "      <td>1.434599</td>\n",
       "      <td>0.496753</td>\n",
       "      <td>1.0</td>\n",
       "      <td>1.0</td>\n",
       "      <td>1.0</td>\n",
       "      <td>2.0</td>\n",
       "      <td>2.0</td>\n",
       "    </tr>\n",
       "    <tr>\n",
       "      <th>Age Range</th>\n",
       "      <td>237.0</td>\n",
       "      <td>1.535865</td>\n",
       "      <td>0.499768</td>\n",
       "      <td>1.0</td>\n",
       "      <td>1.0</td>\n",
       "      <td>2.0</td>\n",
       "      <td>2.0</td>\n",
       "      <td>2.0</td>\n",
       "    </tr>\n",
       "    <tr>\n",
       "      <th>Head Size(cm^3)</th>\n",
       "      <td>237.0</td>\n",
       "      <td>3633.991561</td>\n",
       "      <td>365.261422</td>\n",
       "      <td>2720.0</td>\n",
       "      <td>3389.0</td>\n",
       "      <td>3614.0</td>\n",
       "      <td>3876.0</td>\n",
       "      <td>4747.0</td>\n",
       "    </tr>\n",
       "    <tr>\n",
       "      <th>Brain Weight(grams)</th>\n",
       "      <td>237.0</td>\n",
       "      <td>1282.873418</td>\n",
       "      <td>120.340446</td>\n",
       "      <td>955.0</td>\n",
       "      <td>1207.0</td>\n",
       "      <td>1280.0</td>\n",
       "      <td>1350.0</td>\n",
       "      <td>1635.0</td>\n",
       "    </tr>\n",
       "  </tbody>\n",
       "</table>\n",
       "</div>"
      ],
      "text/plain": [
       "                     count         mean         std     min     25%     50%  \\\n",
       "Gender               237.0     1.434599    0.496753     1.0     1.0     1.0   \n",
       "Age Range            237.0     1.535865    0.499768     1.0     1.0     2.0   \n",
       "Head Size(cm^3)      237.0  3633.991561  365.261422  2720.0  3389.0  3614.0   \n",
       "Brain Weight(grams)  237.0  1282.873418  120.340446   955.0  1207.0  1280.0   \n",
       "\n",
       "                        75%     max  \n",
       "Gender                  2.0     2.0  \n",
       "Age Range               2.0     2.0  \n",
       "Head Size(cm^3)      3876.0  4747.0  \n",
       "Brain Weight(grams)  1350.0  1635.0  "
      ]
     },
     "execution_count": 19,
     "metadata": {},
     "output_type": "execute_result"
    }
   ],
   "source": [
    "df.describe().T"
   ]
  },
  {
   "cell_type": "markdown",
   "metadata": {},
   "source": [
    "## Beginning of Bootstrap"
   ]
  },
  {
   "cell_type": "code",
   "execution_count": 20,
   "metadata": {},
   "outputs": [],
   "source": [
    "bootstrap_sample = df.sample(38, replace=True)"
   ]
  },
  {
   "cell_type": "code",
   "execution_count": 23,
   "metadata": {},
   "outputs": [],
   "source": [
    "n_iterations = 3000\n",
    "n_size = len(bootstrap_sample)\n",
    "sampling_means_distribution = []\n",
    "# Run the loop 3000 times, draw random samples in each loop and get there mean\n",
    "for i in range(n_iterations):\n",
    "    iteration_sample = bootstrap_sample.sample(n_size, replace=True)\n",
    "    iteration_mean = iteration_sample['Brain Weight(grams)'].mean()\n",
    "    sampling_means_distribution.append(iteration_mean)"
   ]
  },
  {
   "cell_type": "markdown",
   "metadata": {},
   "source": [
    "Confidence Interval  \n",
    "lower_percentile = mean - z score x (standard deviation / √sample size)  \n",
    "upper_percentile = mean + z score x (standard deviation / √sample size)  "
   ]
  },
  {
   "cell_type": "code",
   "execution_count": 30,
   "metadata": {},
   "outputs": [],
   "source": [
    "sample_lower, sample_upper = np.percentile(sampling_means_distribution, [2.5, 97.5])"
   ]
  },
  {
   "cell_type": "code",
   "execution_count": 31,
   "metadata": {},
   "outputs": [],
   "source": [
    "true_lower, true_upper = np.percentile(df[], [2.5, 97.5])"
   ]
  },
  {
   "cell_type": "code",
   "execution_count": 32,
   "metadata": {},
   "outputs": [
    {
     "name": "stdout",
     "output_type": "stream",
     "text": [
      "95% confidence interval for bootstrap: [1290.56, 1361.32]\n",
      "95% confidence interval for entire population: [1.00, 4116.27]\n"
     ]
    }
   ],
   "source": [
    "print('95%% confidence interval for bootstrap: [%.2f, %.2f]' % (sample_lower, sample_upper))\n",
    "print('95%% confidence interval for entire population: [%.2f, %.2f]' % (true_lower, true_upper))"
   ]
  },
  {
   "cell_type": "code",
   "execution_count": null,
   "metadata": {},
   "outputs": [],
   "source": []
  }
 ],
 "metadata": {
  "kernelspec": {
   "display_name": "Python 3 (ipykernel)",
   "language": "python",
   "name": "python3"
  },
  "language_info": {
   "codemirror_mode": {
    "name": "ipython",
    "version": 3
   },
   "file_extension": ".py",
   "mimetype": "text/x-python",
   "name": "python",
   "nbconvert_exporter": "python",
   "pygments_lexer": "ipython3",
   "version": "3.9.7"
  }
 },
 "nbformat": 4,
 "nbformat_minor": 4
}
